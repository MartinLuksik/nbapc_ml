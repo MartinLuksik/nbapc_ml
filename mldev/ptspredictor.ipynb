{
 "cells": [
  {
   "cell_type": "code",
   "execution_count": 1,
   "metadata": {},
   "outputs": [],
   "source": [
    "import pandas as pd\n",
    "import numpy as np"
   ]
  },
  {
   "cell_type": "code",
   "execution_count": 3,
   "metadata": {},
   "outputs": [],
   "source": [
    "# read in datasets\n",
    "df08 = pd.read_csv('boxscores_2008-09.csv', sep=\";\")\n",
    "df09 = pd.read_csv('boxscores_2009-10.csv', sep=\";\")\n",
    "df10 = pd.read_csv('boxscores_2010-11.csv', sep=\";\")\n",
    "df11 = pd.read_csv('boxscores_2011-12.csv', sep=\";\")\n",
    "df12 = pd.read_csv('boxscores_2012-13.csv', sep=\";\")\n",
    "df13 = pd.read_csv('boxscores_2013-14.csv', sep=\";\")\n",
    "df14 = pd.read_csv('boxscores_2014-15.csv', sep=\";\")\n",
    "df15 = pd.read_csv('boxscores_2015-16.csv', sep=\";\")\n",
    "df16 = pd.read_csv('boxscores_2016-17.csv', sep=\";\")\n",
    "df17 = pd.read_csv('boxscores_2017-18.csv', sep=\";\")\n",
    "df18 = pd.read_csv('boxscores_2018-19.csv', sep=\";\")\n",
    "df19 = pd.read_csv('boxscores_2019-20.csv', sep=\";\")"
   ]
  },
  {
   "cell_type": "code",
   "execution_count": 4,
   "metadata": {},
   "outputs": [],
   "source": [
    "# concatenate datasets\n",
    "df = pd.concat([df08,df09, df10, df11,df12,df13,df14,df15,df16,df17,df18,df19])"
   ]
  },
  {
   "cell_type": "code",
   "execution_count": 5,
   "metadata": {},
   "outputs": [],
   "source": [
    "# clean data\n",
    "# TO DO:\n",
    "# move this to crawler prior 'to_csv'\n",
    "df['Player'] = df['Player'].map(lambda x: x.lstrip('\\n').rstrip('\\n'))\n",
    "df['Team'] = df['Team'].map(lambda x: x.lstrip('\\n').rstrip('\\n'))\n",
    "df['MATCH_UP'] = df['MATCH_UP'].map(lambda x: x.lstrip('\\n').rstrip('\\n'))\n",
    "df['GAME_DATE'] = df['GAME_DATE'].map(lambda x: x.lstrip('\\n').rstrip('\\n'))"
   ]
  },
  {
   "cell_type": "code",
   "execution_count": 6,
   "metadata": {},
   "outputs": [],
   "source": [
    "# FEATURE ENGINEERING\n",
    "# 1. GET BOOLEAN HOME GAME\n",
    "df['HOME_GAME'] = np.where(df['MATCH_UP'].str.contains('vs.'),1,0)\n",
    "# 2. GET STRING OPPONENT \n",
    "df['OPPONENT'] = np.where(df['MATCH_UP'].str.contains('vs.'), df['MATCH_UP'].map(lambda x: x.split('vs.')[-1]), df['MATCH_UP'].map(lambda x: x.split('@')[-1]))\n",
    "# 3. GET WIN AS BOOLEAN\n",
    "df['W'] = np.where(df['W_L']==\"W\",1,0)\n",
    "# 4. KEEP ONLY COLUMNS\n",
    "df = df.filter(['Player','Team', 'GAME_DATE', 'MIN', 'PTS', 'HOME_GAME', 'W'])"
   ]
  },
  {
   "cell_type": "code",
   "execution_count": 7,
   "metadata": {},
   "outputs": [
    {
     "data": {
      "text/html": [
       "<div>\n",
       "<style scoped>\n",
       "    .dataframe tbody tr th:only-of-type {\n",
       "        vertical-align: middle;\n",
       "    }\n",
       "\n",
       "    .dataframe tbody tr th {\n",
       "        vertical-align: top;\n",
       "    }\n",
       "\n",
       "    .dataframe thead th {\n",
       "        text-align: right;\n",
       "    }\n",
       "</style>\n",
       "<table border=\"1\" class=\"dataframe\">\n",
       "  <thead>\n",
       "    <tr style=\"text-align: right;\">\n",
       "      <th></th>\n",
       "      <th>Player</th>\n",
       "      <th>Team</th>\n",
       "      <th>GAME_DATE</th>\n",
       "      <th>MIN</th>\n",
       "      <th>PTS</th>\n",
       "      <th>HOME_GAME</th>\n",
       "      <th>W</th>\n",
       "    </tr>\n",
       "  </thead>\n",
       "  <tbody>\n",
       "    <tr>\n",
       "      <th>517</th>\n",
       "      <td>LeBron James</td>\n",
       "      <td>CLE</td>\n",
       "      <td>2009-04-13</td>\n",
       "      <td>39</td>\n",
       "      <td>37</td>\n",
       "      <td>0</td>\n",
       "      <td>1</td>\n",
       "    </tr>\n",
       "    <tr>\n",
       "      <th>627</th>\n",
       "      <td>LeBron James</td>\n",
       "      <td>CLE</td>\n",
       "      <td>2009-04-12</td>\n",
       "      <td>30</td>\n",
       "      <td>29</td>\n",
       "      <td>1</td>\n",
       "      <td>1</td>\n",
       "    </tr>\n",
       "    <tr>\n",
       "      <th>889</th>\n",
       "      <td>LeBron James</td>\n",
       "      <td>CLE</td>\n",
       "      <td>2009-04-10</td>\n",
       "      <td>37</td>\n",
       "      <td>27</td>\n",
       "      <td>0</td>\n",
       "      <td>1</td>\n",
       "    </tr>\n",
       "    <tr>\n",
       "      <th>1257</th>\n",
       "      <td>LeBron James</td>\n",
       "      <td>CLE</td>\n",
       "      <td>2009-04-08</td>\n",
       "      <td>31</td>\n",
       "      <td>21</td>\n",
       "      <td>1</td>\n",
       "      <td>1</td>\n",
       "    </tr>\n",
       "    <tr>\n",
       "      <th>1730</th>\n",
       "      <td>LeBron James</td>\n",
       "      <td>CLE</td>\n",
       "      <td>2009-04-05</td>\n",
       "      <td>37</td>\n",
       "      <td>38</td>\n",
       "      <td>1</td>\n",
       "      <td>1</td>\n",
       "    </tr>\n",
       "  </tbody>\n",
       "</table>\n",
       "</div>"
      ],
      "text/plain": [
       "            Player Team  GAME_DATE  MIN  PTS  HOME_GAME  W\n",
       "517   LeBron James  CLE 2009-04-13   39   37          0  1\n",
       "627   LeBron James  CLE 2009-04-12   30   29          1  1\n",
       "889   LeBron James  CLE 2009-04-10   37   27          0  1\n",
       "1257  LeBron James  CLE 2009-04-08   31   21          1  1\n",
       "1730  LeBron James  CLE 2009-04-05   37   38          1  1"
      ]
     },
     "execution_count": 7,
     "metadata": {},
     "output_type": "execute_result"
    }
   ],
   "source": [
    "# Select a player\n",
    "player = 'LeBron James'\n",
    "df = df[df['Player']==player]\n",
    "# Sort by date\n",
    "df['GAME_DATE'] =pd.to_datetime(df.GAME_DATE)\n",
    "df.sort_values(by='GAME_DATE')\n",
    "df.head()"
   ]
  },
  {
   "cell_type": "code",
   "execution_count": 8,
   "metadata": {},
   "outputs": [],
   "source": [
    "# Engineering, introduce L5 games feature\n",
    "df['min_G-1'] = df.MIN.shift(1)\n",
    "df['min_G-2'] = df.MIN.shift(2)\n",
    "df['min_G-3'] = df.MIN.shift(3)\n",
    "df['min_G-4'] = df.MIN.shift(4)\n",
    "df['min_G-5'] = df.MIN.shift(5)\n",
    "df['pts_G-1'] = df.PTS.shift(1)\n",
    "df['pts_G-2'] = df.PTS.shift(2)\n",
    "df['pts_G-3'] = df.PTS.shift(3)\n",
    "df['pts_G-4'] = df.PTS.shift(4)\n",
    "df['pts_G-5'] = df.PTS.shift(5)\n",
    "df['home_G-1'] = df.HOME_GAME.shift(1)\n",
    "df['home_G-2'] = df.HOME_GAME.shift(2)\n",
    "df['home_G-3'] = df.HOME_GAME.shift(3)\n",
    "df['home_G-4'] = df.HOME_GAME.shift(4)\n",
    "df['home_G-5'] = df.HOME_GAME.shift(5)"
   ]
  },
  {
   "cell_type": "code",
   "execution_count": 9,
   "metadata": {},
   "outputs": [],
   "source": [
    "df = df.drop(['Player', 'Team', 'GAME_DATE', 'MIN', 'W'], axis=1).dropna()"
   ]
  },
  {
   "cell_type": "code",
   "execution_count": 10,
   "metadata": {},
   "outputs": [
    {
     "name": "stdout",
     "output_type": "stream",
     "text": [
      "Grid best parameter (max. neg_mean_absolute_error):  {'n_neighbors': 10}\n",
      "Grid best score (neg_mean_absolute_error):  -6.080744820351429\n"
     ]
    }
   ],
   "source": [
    "from sklearn.neighbors import KNeighborsRegressor\n",
    "from sklearn.model_selection import train_test_split\n",
    "from sklearn.model_selection import cross_val_score\n",
    "from sklearn.model_selection import GridSearchCV\n",
    "\n",
    "X = df.drop('PTS', axis=1)\n",
    "y = df['PTS']\n",
    "\n",
    "X_train, X_test, y_train, y_test = train_test_split(X, y, random_state = 5)\n",
    "knnreg = KNeighborsRegressor()\n",
    "\n",
    "grid_values = {'n_neighbors': [1,5,6,7,8,9,10]}\n",
    "\n",
    "# default metric to optimize over grid parameters: neg_mean_squared_error\n",
    "knnreg = GridSearchCV(knnreg, param_grid = grid_values, scoring='neg_mean_absolute_error')\n",
    "knnreg.fit(X_train, y_train)\n",
    "\n",
    "print('Grid best parameter (max. neg_mean_absolute_error): ', knnreg.best_params_)\n",
    "print('Grid best score (neg_mean_absolute_error): ', knnreg.best_score_)"
   ]
  },
  {
   "cell_type": "code",
   "execution_count": 11,
   "metadata": {},
   "outputs": [
    {
     "data": {
      "text/plain": [
       "array([27.2])"
      ]
     },
     "execution_count": 11,
     "metadata": {},
     "output_type": "execute_result"
    }
   ],
   "source": [
    "knnreg.predict([[1,35.0,28.0,43.0,37.0,35.0,20.0,23.0,39.0,21.0,30.0,1.0,1.0,0.0,0.0,0.0]])"
   ]
  },
  {
   "cell_type": "code",
   "execution_count": 12,
   "metadata": {},
   "outputs": [
    {
     "data": {
      "text/plain": [
       "['knnreg.joblib']"
      ]
     },
     "execution_count": 12,
     "metadata": {},
     "output_type": "execute_result"
    }
   ],
   "source": [
    "from joblib import dump, load\n",
    "dump(knnreg, 'knnreg.joblib')\n",
    "#clf = load('filename.joblib')"
   ]
  },
  {
   "cell_type": "code",
   "execution_count": 13,
   "metadata": {},
   "outputs": [],
   "source": [
    "import pickle\n",
    "\n",
    "# Save to file in the current working directory\n",
    "pkl_filename = \"pickle_model.pkl\"\n",
    "with open(\"knnreg.pkl\", 'wb') as file:\n",
    "    pickle.dump(knnreg, file)"
   ]
  },
  {
   "cell_type": "code",
   "execution_count": 1,
   "metadata": {},
   "outputs": [
    {
     "name": "stdout",
     "output_type": "stream",
     "text": [
      "3.6.9\n"
     ]
    }
   ],
   "source": [
    "from platform import python_version\n",
    "print(python_version())"
   ]
  },
  {
   "cell_type": "code",
   "execution_count": null,
   "metadata": {},
   "outputs": [],
   "source": []
  }
 ],
 "metadata": {
  "kernelspec": {
   "display_name": "nbapc_ml_env",
   "language": "python",
   "name": "nbapc_ml_env"
  },
  "language_info": {
   "codemirror_mode": {
    "name": "ipython",
    "version": 3
   },
   "file_extension": ".py",
   "mimetype": "text/x-python",
   "name": "python",
   "nbconvert_exporter": "python",
   "pygments_lexer": "ipython3",
   "version": "3.6.9"
  }
 },
 "nbformat": 4,
 "nbformat_minor": 2
}
